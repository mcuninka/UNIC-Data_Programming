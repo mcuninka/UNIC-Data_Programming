{
 "cells": [
  {
   "cell_type": "code",
   "execution_count": 1,
   "metadata": {},
   "outputs": [],
   "source": [
    "import re"
   ]
  },
  {
   "cell_type": "code",
   "execution_count": 11,
   "metadata": {},
   "outputs": [
    {
     "name": "stdout",
     "output_type": "stream",
     "text": [
      "['@maros fafda fdsa ', '@kim fdsafa ']\n",
      "['@maros', '@kim', '@1john']\n"
     ]
    }
   ],
   "source": [
    "comment = 'fafdafd fadsfdas ffff fda @maros fafda fdsa @kim fdsafa @1john'\n",
    "\n",
    "pat = r'@[a-z A-Z]+'\n",
    "pat2 = r'@\\w+'\n",
    "\n",
    "print(re.findall(pat, comment))\n",
    "print(re.findall(pat2, comment))"
   ]
  },
  {
   "cell_type": "code",
   "execution_count": 13,
   "metadata": {},
   "outputs": [
    {
     "data": {
      "text/plain": [
       "['fafdaf', 'fadsfd', 'fdsafa']"
      ]
     },
     "execution_count": 13,
     "metadata": {},
     "output_type": "execute_result"
    }
   ],
   "source": [
    "pat3 = r'\\w{6}'\n",
    "\n",
    "re.findall(pat3, comment)"
   ]
  },
  {
   "cell_type": "code",
   "execution_count": 22,
   "metadata": {},
   "outputs": [],
   "source": [
    "def checkString(string):\n",
    "    pat = r'[a-z]{2}\\d{2}X'\n",
    "    return re.search(pat, string) is not None"
   ]
  },
  {
   "cell_type": "code",
   "execution_count": 23,
   "metadata": {},
   "outputs": [
    {
     "name": "stdout",
     "output_type": "stream",
     "text": [
      "True\n",
      "False\n",
      "False\n",
      "False\n",
      "False\n"
     ]
    }
   ],
   "source": [
    "print(checkString('af12X'))\n",
    "print(checkString('zA12X'))\n",
    "print(checkString('f12X'))\n",
    "print(checkString('afddX'))\n",
    "print(checkString('af12Y'))"
   ]
  },
  {
   "cell_type": "code",
   "execution_count": null,
   "metadata": {},
   "outputs": [],
   "source": []
  }
 ],
 "metadata": {
  "kernelspec": {
   "display_name": "Python 3.9.7 ('base')",
   "language": "python",
   "name": "python3"
  },
  "language_info": {
   "codemirror_mode": {
    "name": "ipython",
    "version": 3
   },
   "file_extension": ".py",
   "mimetype": "text/x-python",
   "name": "python",
   "nbconvert_exporter": "python",
   "pygments_lexer": "ipython3",
   "version": "3.9.7"
  },
  "orig_nbformat": 4,
  "vscode": {
   "interpreter": {
    "hash": "ac673d3df47e66e7dd05b65e3bb29a1f7300abf45f44f7ec05eed198338d7ce0"
   }
  }
 },
 "nbformat": 4,
 "nbformat_minor": 2
}
