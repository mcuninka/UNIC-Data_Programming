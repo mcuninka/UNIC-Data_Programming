{
 "cells": [
  {
   "cell_type": "markdown",
   "metadata": {},
   "source": [
    "# COMP-240 Homework 5"
   ]
  },
  {
   "cell_type": "markdown",
   "metadata": {},
   "source": [
    "This homework assignment focuses on both data transformations and data grouping to produce aggregate results. No special libraries are required other than NumPy and Pandas."
   ]
  },
  {
   "cell_type": "code",
   "execution_count": null,
   "metadata": {
    "ExecuteTime": {
     "end_time": "2021-11-19T08:04:59.132063Z",
     "start_time": "2021-11-19T08:04:52.811754Z"
    }
   },
   "outputs": [],
   "source": [
    "import numpy as np\n",
    "import pandas as pd"
   ]
  },
  {
   "cell_type": "markdown",
   "metadata": {},
   "source": [
    "## Exercise 1"
   ]
  },
  {
   "cell_type": "markdown",
   "metadata": {
    "ExecuteTime": {
     "end_time": "2021-11-18T11:09:08.088515Z",
     "start_time": "2021-11-18T11:09:08.084503Z"
    }
   },
   "source": [
    "### Design a function that given a person's height (in m) and weight (in kg), the function returns the person's BMI score using the following equation:\n",
    "\n",
    "$$\n",
    "BMI = \\frac{weight}{height^2}\n",
    "$$"
   ]
  },
  {
   "cell_type": "code",
   "execution_count": null,
   "metadata": {
    "ExecuteTime": {
     "end_time": "2021-11-19T08:04:59.174427Z",
     "start_time": "2021-11-19T08:04:59.161394Z"
    }
   },
   "outputs": [],
   "source": [
    "def bmi(weight, height):\n",
    "    #your code goes here\n",
    "    try:\n",
    "        return weight / (height ** 2)\n",
    "    except ZeroDivisionError:\n",
    "        return 'Height cannot be 0'\n",
    "\n",
    "bmi(57, 1.55) #example input and output 23.72"
   ]
  },
  {
   "cell_type": "markdown",
   "metadata": {},
   "source": [
    "### Design another function that given the bmi returns the bmi classification for that person by adopting the following interpretation:\n",
    "\n",
    "0 < bmi < 18.5    Underweight\n",
    "\n",
    "18.5 <= bmi < 25  Normal\n",
    "\n",
    "25 <= bmi < 30    Overweight\n",
    "\n",
    "30 <= bmi         Obese "
   ]
  },
  {
   "cell_type": "code",
   "execution_count": null,
   "metadata": {
    "ExecuteTime": {
     "end_time": "2021-11-19T08:05:00.698646Z",
     "start_time": "2021-11-19T08:05:00.683019Z"
    }
   },
   "outputs": [],
   "source": [
    "def bmi_classification(bmi):\n",
    "    #your code goes here\n",
    "    if bmi < 0:\n",
    "        return 'Bmi cannot be lower than 0.'\n",
    "    elif bmi < 18.5:\n",
    "        return 'Underweight'\n",
    "    elif bmi < 25:\n",
    "        return 'Normal'\n",
    "    elif bmi < 30:\n",
    "        return 'Overweight'\n",
    "    else:\n",
    "        return 'Obese'\n",
    "    \n",
    "bmi_classification(23.73) # example input"
   ]
  },
  {
   "cell_type": "markdown",
   "metadata": {},
   "source": [
    "### Using the `map` function and lambda classify the given bmi scores by using the function you have previously designed"
   ]
  },
  {
   "cell_type": "code",
   "execution_count": null,
   "metadata": {
    "ExecuteTime": {
     "end_time": "2021-11-19T08:05:18.925900Z",
     "start_time": "2021-11-19T08:05:18.920887Z"
    }
   },
   "outputs": [],
   "source": [
    "bmi_scores = [18.1, -3., 23.73, 34.32, 28.7, 22.8] # example input\n",
    "#your code goes here\n",
    "result = map(lambda x : bmi_classification(x), bmi_scores)\n",
    "print(*result)"
   ]
  },
  {
   "cell_type": "markdown",
   "metadata": {},
   "source": [
    "### From the new list, remove the values that do not have a valid interpretation"
   ]
  },
  {
   "cell_type": "code",
   "execution_count": null,
   "metadata": {
    "ExecuteTime": {
     "end_time": "2021-11-19T08:05:22.211876Z",
     "start_time": "2021-11-19T08:05:22.207865Z"
    }
   },
   "outputs": [],
   "source": [
    "#your code goes here\n",
    "bmi_scores_valid = filter(lambda x: x > 0, bmi_scores)\n",
    "print(*bmi_scores_valid)"
   ]
  },
  {
   "cell_type": "markdown",
   "metadata": {},
   "source": [
    "### Download the following dataset capturing the height and weight of 500 people into a pandas DataFrame\n",
    "\n",
    "dataset in `csv` format can be found using the following url:\n",
    "\n",
    "`https://storage.googleapis.com/comp240-stores/bmi.csv`"
   ]
  },
  {
   "cell_type": "code",
   "execution_count": null,
   "metadata": {
    "ExecuteTime": {
     "end_time": "2021-11-19T08:05:29.880989Z",
     "start_time": "2021-11-19T08:05:29.281065Z"
    }
   },
   "outputs": [],
   "source": [
    "#your code goes here\n",
    "url = 'https://storage.googleapis.com/comp240-stores/bmi.csv'\n",
    "df = pd.read_csv(url)\n",
    "df.head()"
   ]
  },
  {
   "cell_type": "markdown",
   "metadata": {},
   "source": [
    "If you look closely, you will see that the height is given in cm. \n",
    "\n",
    "### Add a new attribute to the DataFrame named `HeightM` that captures for each person their height in meters"
   ]
  },
  {
   "cell_type": "code",
   "execution_count": null,
   "metadata": {
    "ExecuteTime": {
     "end_time": "2021-11-19T08:08:20.317531Z",
     "start_time": "2021-11-19T08:08:20.304336Z"
    }
   },
   "outputs": [],
   "source": [
    "#your code goes here\n",
    "df['HeightM'] = df['Height']/100\n",
    "df.head()"
   ]
  },
  {
   "cell_type": "markdown",
   "metadata": {},
   "source": [
    "### Add two new attributes to the DataFrame that capture for each person their bmi and the respective classification"
   ]
  },
  {
   "cell_type": "code",
   "execution_count": null,
   "metadata": {
    "ExecuteTime": {
     "end_time": "2021-11-19T08:35:22.240689Z",
     "start_time": "2021-11-19T08:35:22.206163Z"
    }
   },
   "outputs": [],
   "source": [
    "#your code goes here\n",
    "df['bmi'] = bmi(df['Weight'], df['HeightM'])\n",
    "df['bmi_type'] = df['bmi'].apply(bmi_classification)\n",
    "df.head()"
   ]
  },
  {
   "cell_type": "markdown",
   "metadata": {},
   "source": [
    "Example output of how your dataframe should look like in the end:"
   ]
  },
  {
   "cell_type": "markdown",
   "metadata": {},
   "source": [
    "|   | Gender | Height | Weight | HeightM | bmi       | bmi_type   |\n",
    "|---|--------|--------|--------|---------|-----------|------------|\n",
    "| 0 | Male   | 174    | 96     | 1.74    | 31.708284 | Obese      |\n",
    "| 1 | Male   | 189    | 87     | 1.89    | 24.355421 | Normal     |\n",
    "| 2 | Female | 185    | 110    | 1.85    | 32.140248 | Obese      |\n",
    "| 3 | Female | 195    | 104    | 1.95    | 27.350427 | Overweight |\n",
    "| 4 | Male   | 149    | 61     | 1.49    | 27.476240 | Overweight |"
   ]
  },
  {
   "cell_type": "markdown",
   "metadata": {},
   "source": [
    "## Exercise 2"
   ]
  },
  {
   "cell_type": "markdown",
   "metadata": {},
   "source": [
    "In this exercise you will download and process a dataset capturing player salaries from a recent NBA season. \n",
    "\n",
    "As your first task, download the dataset in `csv` format from the following url:\n",
    "\n",
    "`https://storage.googleapis.com/comp240-stores/nba_salaries.csv`\n",
    "\n",
    "Afterwards, answer the 5 questions that follow."
   ]
  },
  {
   "cell_type": "code",
   "execution_count": null,
   "metadata": {
    "ExecuteTime": {
     "end_time": "2021-11-18T09:36:36.064866Z",
     "start_time": "2021-11-18T09:36:35.150809Z"
    }
   },
   "outputs": [],
   "source": [
    "#your code goes here\n",
    "df = pd.read_csv('https://storage.googleapis.com/comp240-stores/nba_salaries.csv')\n",
    "df.head()"
   ]
  },
  {
   "cell_type": "markdown",
   "metadata": {
    "ExecuteTime": {
     "end_time": "2021-11-18T09:37:12.768327Z",
     "start_time": "2021-11-18T09:37:12.765318Z"
    }
   },
   "source": [
    "### How much money did each team pay for its players’ salaries?"
   ]
  },
  {
   "cell_type": "code",
   "execution_count": null,
   "metadata": {
    "ExecuteTime": {
     "end_time": "2021-11-18T09:37:55.730208Z",
     "start_time": "2021-11-18T09:37:55.649486Z"
    }
   },
   "outputs": [],
   "source": [
    "# your code goes here\n",
    "salaries_per_team = df['SALARY'].groupby(df['TEAM']).sum()\n",
    "salaries_per_team"
   ]
  },
  {
   "cell_type": "markdown",
   "metadata": {},
   "source": [
    "### Which teams are the top-5 and bottom-5 spenders?"
   ]
  },
  {
   "cell_type": "code",
   "execution_count": null,
   "metadata": {
    "ExecuteTime": {
     "end_time": "2021-11-18T09:42:32.833344Z",
     "start_time": "2021-11-18T09:42:32.822953Z"
    }
   },
   "outputs": [],
   "source": [
    "# your code goes here\n",
    "top_n = 5\n",
    "\n",
    "print(f'\\tBOTTOM {top_n} SPENDERS:\\n{salaries_per_team.sort_values(ascending=True)[:top_n]}')\n",
    "print(f'\\tTOP {top_n} SPENDERS:\\n{salaries_per_team.sort_values(ascending=False)[:top_n]}')"
   ]
  },
  {
   "cell_type": "markdown",
   "metadata": {},
   "source": [
    "### How many NBA players were there in each of the five positions?"
   ]
  },
  {
   "cell_type": "code",
   "execution_count": null,
   "metadata": {
    "ExecuteTime": {
     "end_time": "2021-11-18T09:44:51.153082Z",
     "start_time": "2021-11-18T09:44:51.142052Z"
    }
   },
   "outputs": [],
   "source": [
    "# your code goes here\n",
    "players_by_position = df['POSITION'].groupby(df['POSITION']).count()\n",
    "players_by_position"
   ]
  },
  {
   "cell_type": "markdown",
   "metadata": {},
   "source": [
    "### What was the average salary of the players at each of the five positions?"
   ]
  },
  {
   "cell_type": "code",
   "execution_count": null,
   "metadata": {
    "ExecuteTime": {
     "end_time": "2021-11-18T09:45:38.944504Z",
     "start_time": "2021-11-18T09:45:38.878900Z"
    }
   },
   "outputs": [],
   "source": [
    "# your code goes here\n",
    "avg_position_salary = df[['POSITION', 'SALARY']].groupby('POSITION').mean()\n",
    "avg_position_salary"
   ]
  },
  {
   "cell_type": "markdown",
   "metadata": {
    "ExecuteTime": {
     "end_time": "2021-11-18T09:47:17.224898Z",
     "start_time": "2021-11-18T09:47:17.222361Z"
    }
   },
   "source": [
    "### Depict the mean, median, std, min and max SALARY for each of the five positions"
   ]
  },
  {
   "cell_type": "code",
   "execution_count": null,
   "metadata": {
    "ExecuteTime": {
     "end_time": "2021-11-18T09:48:22.273132Z",
     "start_time": "2021-11-18T09:48:22.255083Z"
    }
   },
   "outputs": [],
   "source": [
    "# your code goes here\n",
    "df[['POSITION', 'SALARY']].groupby('POSITION').agg(['mean', 'median', 'std', 'min', 'max'])"
   ]
  },
  {
   "cell_type": "markdown",
   "metadata": {},
   "source": [
    "## Exercise 3"
   ]
  },
  {
   "cell_type": "markdown",
   "metadata": {},
   "source": [
    "In this exercise you will download and process a dataset capturing detailed information of the passengers that embarked the Titanic.\n",
    "\n",
    "As your first task, download the dataset in `csv` format from the following url:\n",
    "\n",
    "`https://storage.googleapis.com/comp240-stores/titanic.csv`\n",
    "\n",
    "Afterwards, answer the questions that follow."
   ]
  },
  {
   "cell_type": "code",
   "execution_count": null,
   "metadata": {
    "ExecuteTime": {
     "end_time": "2021-11-18T10:03:16.810297Z",
     "start_time": "2021-11-18T10:03:16.104132Z"
    }
   },
   "outputs": [],
   "source": [
    "#your code goes here\n",
    "df = pd.read_csv('https://storage.googleapis.com/comp240-stores/titanic.csv')\n",
    "df.head()"
   ]
  },
  {
   "cell_type": "markdown",
   "metadata": {},
   "source": [
    "### How many female and how many male passengers survived?"
   ]
  },
  {
   "cell_type": "code",
   "execution_count": null,
   "metadata": {
    "ExecuteTime": {
     "end_time": "2021-11-18T10:21:04.343687Z",
     "start_time": "2021-11-18T10:21:04.337165Z"
    }
   },
   "outputs": [],
   "source": [
    "#your code goes here\n",
    "df[df['Survived'] == 1][['Survived', 'Sex']].groupby('Sex').count()"
   ]
  },
  {
   "cell_type": "markdown",
   "metadata": {},
   "source": [
    "### Answer the same question but this time return a percentage for each sex against the total number of passengers survived."
   ]
  },
  {
   "cell_type": "code",
   "execution_count": null,
   "metadata": {
    "ExecuteTime": {
     "end_time": "2021-11-18T10:21:08.977545Z",
     "start_time": "2021-11-18T10:21:08.969523Z"
    }
   },
   "outputs": [],
   "source": [
    "#your code goes here\n",
    "total_passengers_survived = df[df['Survived'] == 1]['Survived'].count()\n",
    "df2 = df[df['Survived'] == 1][['Survived', 'Sex']].groupby('Sex').count()\n",
    "df2['Percentage'] = df2['Survived'] / total_passengers_survived * 100\n",
    "df2"
   ]
  },
  {
   "cell_type": "markdown",
   "metadata": {
    "ExecuteTime": {
     "end_time": "2021-11-18T10:05:16.602348Z",
     "start_time": "2021-11-18T10:05:16.600342Z"
    }
   },
   "source": [
    "### What is the percentage of female passengers that survived from the female passengers and what is this percentage for the male passengers?"
   ]
  },
  {
   "cell_type": "code",
   "execution_count": null,
   "metadata": {
    "ExecuteTime": {
     "end_time": "2021-11-18T10:24:02.327797Z",
     "start_time": "2021-11-18T10:24:02.321308Z"
    }
   },
   "outputs": [],
   "source": [
    "#your code goes here\n",
    "df3 = df[df['Survived'] == 1][['Survived', 'Sex']].groupby('Sex').count()\n",
    "df3['Total Count'] = df[['Survived', 'Sex']].groupby('Sex').count()\n",
    "df3['Percentage'] = df3['Survived'] / df3['Total Count'] * 100\n",
    "df3"
   ]
  },
  {
   "cell_type": "markdown",
   "metadata": {},
   "source": [
    "### Answer the above question by also depicting class-wise (`Pclass` attribute) the survivor rate."
   ]
  },
  {
   "cell_type": "code",
   "execution_count": null,
   "metadata": {
    "ExecuteTime": {
     "end_time": "2021-11-18T10:25:45.995120Z",
     "start_time": "2021-11-18T10:25:45.929809Z"
    }
   },
   "outputs": [],
   "source": [
    "#your code goes here\n",
    "df_temp = df[['Survived', 'Sex', 'Pclass']]\n",
    "df3 = pd.DataFrame()\n",
    "df3['Total Count'] = df_temp.groupby(['Sex', 'Pclass']).count()\n",
    "df3['Survived'] = df_temp[df_temp['Survived'] == 1].groupby(['Sex', 'Pclass']).count()\n",
    "df3['%Survived'] = (df3['Survived'] / df3['Total Count'] * 100).round(2)\n",
    "# df3['%Survived3'] = (df_temp.groupby(['Sex', 'Pclass']).mean() * 100).round(2)\n",
    "df3"
   ]
  },
  {
   "cell_type": "markdown",
   "metadata": {},
   "source": [
    "### Achieve the same result by embracing a pivot table"
   ]
  },
  {
   "cell_type": "code",
   "execution_count": null,
   "metadata": {
    "ExecuteTime": {
     "end_time": "2021-11-18T11:03:57.604075Z",
     "start_time": "2021-11-18T11:03:57.580527Z"
    }
   },
   "outputs": [],
   "source": [
    "# your code goes here\n",
    "table = pd.pivot_table(df, index=['Sex', 'Pclass'], values='Survived', aggfunc=['count', lambda x: (x == 1).sum(), 'mean'], margins=True, margins_name='Total')\n",
    "table.columns = ['Total Count', 'Survived','%Survived']\n",
    "table['%Survived'] = (table['%Survived'] * 100).round(2)\n",
    "table"
   ]
  },
  {
   "cell_type": "markdown",
   "metadata": {},
   "source": [
    "### Create a new attribute `age_type` that labels each passenger as either (i) `infant` (age 0-3); (ii) `child` (age 4-12); (iv) `teenager` (age 13-17); (iv) `youngster` (age 18-33); (v) `adult` (age 34-59); or (vi) `senior` (age 60 and above)"
   ]
  },
  {
   "cell_type": "code",
   "execution_count": null,
   "metadata": {
    "ExecuteTime": {
     "end_time": "2021-11-18T10:38:59.243110Z",
     "start_time": "2021-11-18T10:38:59.226535Z"
    }
   },
   "outputs": [],
   "source": [
    "#your code goes here\n",
    "def age_type(age):\n",
    "    # result = np.NAN Could be also this, but then it would be excluded in the next exercise\n",
    "    result = 'Missing Age' # by assigning a string to passengers with NaN as Age, I can still check what was their total count and how many survived \n",
    "    if age < 0:\n",
    "        result = 'Age cannot be lower than 0'\n",
    "    elif age <= 3:\n",
    "        result = 'infant'\n",
    "    elif age <= 12:\n",
    "        result = 'child'\n",
    "    elif age <= 17:\n",
    "        result = 'teenager'\n",
    "    elif age <= 33:\n",
    "        result = 'youngster'\n",
    "    elif age <= 59:\n",
    "        result = 'adult'\n",
    "    elif age >= 60:\n",
    "        result = 'senior'\n",
    "    return result\n",
    "\n",
    "df['Age_type'] = df['Age'].apply(age_type)\n",
    "df"
   ]
  },
  {
   "cell_type": "markdown",
   "metadata": {},
   "source": [
    "### Redesign the pivot table previously requested to now present the survivor rates for each sex and age type"
   ]
  },
  {
   "cell_type": "code",
   "execution_count": null,
   "metadata": {
    "ExecuteTime": {
     "end_time": "2021-11-18T11:01:44.382513Z",
     "start_time": "2021-11-18T11:01:44.356473Z"
    }
   },
   "outputs": [],
   "source": [
    "# your code goes here\n",
    "table = pd.pivot_table(df, index=['Sex', 'Age_type'], values='Survived', aggfunc=['count', lambda x: (x == 1).sum(), 'mean'], margins=True, margins_name='Total')\n",
    "table.columns = ['Total Count', 'Survived','%Survived']\n",
    "table['%Survived'] = (table['%Survived'] * 100).round(2)\n",
    "table"
   ]
  }
 ],
 "metadata": {
  "kernelspec": {
   "display_name": "Python 3.9.7 ('base')",
   "language": "python",
   "name": "python3"
  },
  "language_info": {
   "codemirror_mode": {
    "name": "ipython",
    "version": 3
   },
   "file_extension": ".py",
   "mimetype": "text/x-python",
   "name": "python",
   "nbconvert_exporter": "python",
   "pygments_lexer": "ipython3",
   "version": "3.9.7"
  },
  "toc": {
   "base_numbering": 1,
   "nav_menu": {},
   "number_sections": true,
   "sideBar": true,
   "skip_h1_title": true,
   "title_cell": "Table of Contents",
   "title_sidebar": "Contents",
   "toc_cell": false,
   "toc_position": {},
   "toc_section_display": true,
   "toc_window_display": false
  },
  "varInspector": {
   "cols": {
    "lenName": 16,
    "lenType": 16,
    "lenVar": 40
   },
   "kernels_config": {
    "python": {
     "delete_cmd_postfix": "",
     "delete_cmd_prefix": "del ",
     "library": "var_list.py",
     "varRefreshCmd": "print(var_dic_list())"
    },
    "r": {
     "delete_cmd_postfix": ") ",
     "delete_cmd_prefix": "rm(",
     "library": "var_list.r",
     "varRefreshCmd": "cat(var_dic_list()) "
    }
   },
   "types_to_exclude": [
    "module",
    "function",
    "builtin_function_or_method",
    "instance",
    "_Feature"
   ],
   "window_display": false
  },
  "vscode": {
   "interpreter": {
    "hash": "ac673d3df47e66e7dd05b65e3bb29a1f7300abf45f44f7ec05eed198338d7ce0"
   }
  }
 },
 "nbformat": 4,
 "nbformat_minor": 2
}
