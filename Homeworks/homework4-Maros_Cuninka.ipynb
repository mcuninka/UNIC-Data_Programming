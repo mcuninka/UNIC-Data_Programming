{
 "cells": [
  {
   "cell_type": "markdown",
   "metadata": {},
   "source": [
    "# COMP-240 Homework 4"
   ]
  },
  {
   "cell_type": "markdown",
   "metadata": {},
   "source": [
    "## Downloading a dataset and basic data wrangling"
   ]
  },
  {
   "cell_type": "markdown",
   "metadata": {},
   "source": [
    "In this exercise you will download a dataset from a given url and perform some basic data wrangling. \n",
    "\n",
    "The dataset `store_data.csv` captures sales logs in `.csv` format from a department store with multiple branches. A sample of the dataset is shown below:\n",
    "\n",
    "<pre>\n",
    "date \t    store\titem\tsales\n",
    "2017-02-21  5\t    3\t    26\n",
    "2015-10-04\t7\t    37\t    20\n",
    "2017-03-09\t5\t    22\t    55\n",
    "2014-05-17\t6\t    4\t    35\n",
    "2017-01-18\t4\t    41\t    22\n",
    "2013-09-15\t3\t    48\t    67\n",
    "2016-02-15\t7\t    47\t    10\n",
    "2015-04-08\t2\t    25\t    107\n",
    "2013-01-02\t1\t    4\t    11\n",
    "2013-06-14\t10\t    22\t    9\n",
    "...\n",
    "</pre>\n",
    "\n",
    "As one can immediately see an `item` may be found in multiple entries in the dataset. The dataset can be accessed through the following url: \n",
    "\n",
    "`https://storage.googleapis.com/comp240-stores/store_data.csv`\n",
    "\n",
    "Your goal is to download the dataset and go through it to find the **top sold item by aggregating the daily sales per item**."
   ]
  },
  {
   "cell_type": "markdown",
   "metadata": {},
   "source": [
    "### Pure Python and the Requests Library\n",
    "\n",
    "If you have downloaded anaconda but did not pre-download any libraries then open a terminal (e.g., for windows open command prompt) and download the libraries via the conda package manager:\n",
    "\n",
    "`conda install requests`\n",
    "\n",
    "Download the dataset using the `requests` library and then go through the dataset to find the **top sold item by aggregating the daily sales per item** without importing any other library, so basically just pure python."
   ]
  },
  {
   "cell_type": "code",
   "execution_count": null,
   "metadata": {
    "ExecuteTime": {
     "end_time": "2021-11-15T08:27:47.233935Z",
     "start_time": "2021-11-15T08:27:47.011543Z"
    }
   },
   "outputs": [],
   "source": [
    "import requests"
   ]
  },
  {
   "cell_type": "code",
   "execution_count": null,
   "metadata": {
    "ExecuteTime": {
     "end_time": "2021-11-15T08:27:47.243647Z",
     "start_time": "2021-11-15T08:27:47.236472Z"
    }
   },
   "outputs": [],
   "source": [
    "# your code goes here\n",
    "url = 'https://storage.googleapis.com/comp240-stores/store_data.csv'\n",
    "sales_per_item = {}\n",
    "\n",
    "r = requests.get(url)\n",
    "\n",
    "if r:\n",
    "    try:\n",
    "        data = r.content.decode('utf-8').split('\\n')\n",
    "        for line in data[1:]:\n",
    "            columns = line.split(',')\n",
    "            if columns[2] in sales_per_item:\n",
    "                sales_per_item[columns[2]] += int(columns[3])\n",
    "            else:\n",
    "                sales_per_item[columns[2]] = int(columns[3])\n",
    "    except IndexError:\n",
    "        pass\n",
    "else:\n",
    "    r.text"
   ]
  },
  {
   "cell_type": "code",
   "execution_count": null,
   "metadata": {},
   "outputs": [],
   "source": [
    "sales_per_item.items()"
   ]
  },
  {
   "cell_type": "code",
   "execution_count": null,
   "metadata": {},
   "outputs": [],
   "source": [
    "max(sales_per_item.items(), key=(lambda k: k[1]))\n",
    "\n",
    "# Other solution\n",
    "# max_key = max(sales_per_item, key=sales_per_item.get)\n",
    "# print(f'The top sold item is item nr. {max_key} with {sales_per_item[max_key]} sold units.')"
   ]
  },
  {
   "cell_type": "markdown",
   "metadata": {
    "ExecuteTime": {
     "end_time": "2021-11-15T08:38:10.311439Z",
     "start_time": "2021-11-15T08:38:10.308122Z"
    }
   },
   "source": [
    "## Regular Expressions"
   ]
  },
  {
   "cell_type": "code",
   "execution_count": null,
   "metadata": {
    "ExecuteTime": {
     "end_time": "2021-11-15T12:13:13.735253Z",
     "start_time": "2021-11-15T12:13:13.729751Z"
    }
   },
   "outputs": [],
   "source": [
    "import re"
   ]
  },
  {
   "cell_type": "markdown",
   "metadata": {},
   "source": [
    "**Ex. 2.1** Write a function that uses a regex to test if a given string simply starts with a '>'.\n",
    "\n",
    "Examples:\n",
    "\n",
    "<pre>\n",
    "symbol_check('>abc') -> True\n",
    "symbol_check('> abc') -> True\n",
    "symbol_check('>abc14') -> True\n",
    "symbol_check('abc') -> False\n",
    "symbol_check('abc>') -> False\n",
    "</pre>"
   ]
  },
  {
   "cell_type": "code",
   "execution_count": null,
   "metadata": {},
   "outputs": [],
   "source": [
    "def symbol_check(s):\n",
    "    #your code goes here\n",
    "    pat = r'^>'\n",
    "    return re.search(pat, s) is not None\n",
    "\n",
    "    # pat = r'>'\n",
    "    # return re.match(pat, s) is not None"
   ]
  },
  {
   "cell_type": "code",
   "execution_count": null,
   "metadata": {},
   "outputs": [],
   "source": [
    "print(symbol_check('>abc'))\n",
    "print(symbol_check('> abc'))\n",
    "print(symbol_check('>abc14'))\n",
    "print(symbol_check('abc'))\n",
    "print(symbol_check('abc>'))"
   ]
  },
  {
   "cell_type": "markdown",
   "metadata": {},
   "source": [
    "**Ex. 2.2** Write a function that uses a regex to test if a given string is comprised of only two sequences of lowercase letters joined together with an underscore.\n",
    "\n",
    "Examples:\n",
    "\n",
    "<pre>\n",
    "low_und('abbbbbc_ddddd') -> True\n",
    "low_und('dkfkf_d') -> True\n",
    "low_und('w_a') -> True\n",
    "low_und('aA_a') -> False\n",
    "low_und('_a') -> False\n",
    "low_und('aaaa_') -> False\n",
    "low_und('a9aa_a') -> False\n",
    "low_und('a9aa _a') -> False\n",
    "</pre>"
   ]
  },
  {
   "cell_type": "code",
   "execution_count": null,
   "metadata": {
    "ExecuteTime": {
     "end_time": "2021-11-15T12:35:49.985360Z",
     "start_time": "2021-11-15T12:35:49.977109Z"
    }
   },
   "outputs": [],
   "source": [
    "def low_und(s):\n",
    "    #your code goes here\n",
    "    pat = r'[a-z]+_[a-z]+'\n",
    "    return re.search(pat, s) is not None"
   ]
  },
  {
   "cell_type": "code",
   "execution_count": null,
   "metadata": {
    "ExecuteTime": {
     "end_time": "2021-11-15T12:13:18.501041Z",
     "start_time": "2021-11-15T12:13:18.490785Z"
    }
   },
   "outputs": [],
   "source": [
    "print(low_und('abbbbbc_ddddd'))\n",
    "print(low_und('dkfkf_d'))\n",
    "print(low_und('w_a'))\n",
    "print(low_und('aA_a'))\n",
    "print(low_und('_a'))\n",
    "print(low_und('aaaa_'))\n",
    "print(low_und('a9aa_a'))\n",
    "print(low_und('a9aa _a'))"
   ]
  },
  {
   "cell_type": "markdown",
   "metadata": {},
   "source": [
    "**Ex. 2.3** Write a function `find_words_with_zz(text)` that uses a regex to find the words in a given text that contain double 'zz'. The double 'zz' cannot be in the start and end of the word.\n",
    "\n",
    "Examples:\n",
    "\n",
    "<pre>\n",
    ">> find_words_with_zz(\"\"\"Suddenly in the night, John woke up \n",
    "                         craving pizza and a sizzling piece of bacon \n",
    "                         topped with a drizzle of bbq sauce!\"\"\")\n",
    "['pizza', 'sizzling', 'drizzle']\n",
    "</pre>"
   ]
  },
  {
   "cell_type": "code",
   "execution_count": null,
   "metadata": {
    "ExecuteTime": {
     "end_time": "2021-11-15T09:44:38.818725Z",
     "start_time": "2021-11-15T09:44:38.810663Z"
    }
   },
   "outputs": [],
   "source": [
    "def find_words_with_zz(text):\n",
    "    # your code goes here\n",
    "    pat = r'\\b(?!zz)\\w+zz\\w+(?!zz)\\b'\n",
    "    return re.findall(pat, text)"
   ]
  },
  {
   "cell_type": "code",
   "execution_count": null,
   "metadata": {},
   "outputs": [],
   "source": [
    "# I have added 2 words in the first line starting with 'zz' and ending with 'zz'\n",
    "find_words_with_zz(\"\"\"Suddenly in the night, John woke up zzippe zzzzippe pizz pizzzz\n",
    "                      craving pizza and a sizzling piece of bacon \n",
    "                      topped with a drizzle of bbq sauce!\"\"\")"
   ]
  },
  {
   "cell_type": "markdown",
   "metadata": {},
   "source": [
    "**Ex. 2.4** Write a function `filter_words_end_ie(word_list)` that uses a regex to filter (select) the words from a given list that end with `ie`. \n",
    "\n",
    "Examples:\n",
    "\n",
    "<pre>\n",
    ">> filter_words_end_ie(['hello', 'bye', 'goalie', 'newbie', 'zero', 'rieb', 'zombie', 'zoom', 'ierapetra'])\n",
    "['goalie', 'newbie', 'zombie']\n",
    "</pre>"
   ]
  },
  {
   "cell_type": "code",
   "execution_count": null,
   "metadata": {
    "ExecuteTime": {
     "end_time": "2021-11-15T12:23:47.707027Z",
     "start_time": "2021-11-15T12:23:47.688408Z"
    }
   },
   "outputs": [],
   "source": [
    "def filter_words_end_ie(word_list):\n",
    "    # your code goes here\n",
    "    result = []\n",
    "    pat = r'ie$'\n",
    "    for word in word_list:\n",
    "        if re.search(pat, word) is not None:\n",
    "            result.append(word)\n",
    "    return result"
   ]
  },
  {
   "cell_type": "code",
   "execution_count": null,
   "metadata": {},
   "outputs": [],
   "source": [
    "filter_words_end_ie(['hello', 'bye', 'goalie', 'newbie', 'zero', 'rieb', 'zombie', 'zoom', 'ierapetra'])"
   ]
  },
  {
   "cell_type": "markdown",
   "metadata": {
    "ExecuteTime": {
     "end_time": "2021-11-15T12:30:10.443224Z",
     "start_time": "2021-11-15T12:30:10.432696Z"
    }
   },
   "source": [
    "**Ex. 2.5** Write a function `replace_zero(text)` that uses a regex to replace any reference of `zero` or `Zero` with `0`.\n",
    "\n",
    "Examples:\n",
    "\n",
    "<pre>\n",
    ">> replace_zero(\"\"\"After studying the data, we draw the conclusion that zero evidence has been brought forward for the incident at Zero zero three zone that was full of zeros\"\"\")\n",
    "\n",
    "'After studying the data, we draw the conclusion that 0 evidence has been brought forward for the incident at 0 0 three zone that was full of 0s'\n",
    "</pre>"
   ]
  },
  {
   "cell_type": "code",
   "execution_count": null,
   "metadata": {
    "ExecuteTime": {
     "end_time": "2021-11-15T12:32:39.689177Z",
     "start_time": "2021-11-15T12:32:39.678494Z"
    }
   },
   "outputs": [],
   "source": [
    "def replace_zero(text):\n",
    "    # your code goes here\n",
    "    pat = r'Zero|zero'\n",
    "    return re.sub(pat, '0', text)"
   ]
  },
  {
   "cell_type": "code",
   "execution_count": null,
   "metadata": {},
   "outputs": [],
   "source": [
    "replace_zero(\"\"\"After studying the data, we draw the conclusion that zero evidence has been brought forward for the incident at Zero zero three zone that was full of zeros\"\"\")"
   ]
  },
  {
   "cell_type": "markdown",
   "metadata": {},
   "source": [
    "**Ex. 2.6** Write a function `find_phone_numbers(text, code='357')` that uses a regex to find and extract all the Cypriot phone numbers in a given text sequence. A valid Cypriot phone number starts with either 00 or + followed by the country code 357 and afterwards, 8 numeric digits.\n",
    "\n",
    "Examples:\n",
    "\n",
    "<pre>\n",
    ">> find_phone_numbers(\"\"\"dkdkkdldld +35799394903 dkdkfk 0035799802358 fkfkfld.\\n dldld;s;sdd \n",
    "                         dkdk +30690040404 and +3579933040\"\"\")\n",
    "['+35799394903', '0035799802358']\n",
    "</pre>"
   ]
  },
  {
   "cell_type": "code",
   "execution_count": null,
   "metadata": {
    "ExecuteTime": {
     "end_time": "2021-11-15T10:06:06.982877Z",
     "start_time": "2021-11-15T10:06:06.975354Z"
    }
   },
   "outputs": [],
   "source": [
    "def find_phone_numbers(text):\n",
    "    # your code goes here\n",
    "    pat = r'(?:\\+|00)357\\d{8}'\n",
    "    return re.findall(pat, text)"
   ]
  },
  {
   "cell_type": "code",
   "execution_count": null,
   "metadata": {},
   "outputs": [],
   "source": [
    "find_phone_numbers(\"\"\"dkdkkdldld +35799394903 dkdkfk 0035799802358 fkfkfld.\\n dldld;s;sdd \n",
    "                      dkdk +30690040404 and +3579933040\"\"\")"
   ]
  },
  {
   "cell_type": "markdown",
   "metadata": {},
   "source": [
    "**Ex. 2.7** Write a function `is_zip_code(zipcode)` that uses a regex to test if a given string evaluates to a correct zip code. A correct zip code has a length of 6 characters with the 3 first being letters and followed by 3 digits.\n",
    "\n",
    "Examples:\n",
    "\n",
    "<pre>\n",
    "is_zip_code('ABC123') -> True\n",
    "is_zip_code('FYA598') -> True\n",
    "is_zip_code('wyz940') -> True\n",
    "is_zip_code('AB123') -> False\n",
    "is_zip_code('ABCD123') -> False\n",
    "is_zip_code('ABC12') -> False\n",
    "</pre>"
   ]
  },
  {
   "cell_type": "code",
   "execution_count": null,
   "metadata": {
    "ExecuteTime": {
     "end_time": "2021-11-15T09:08:50.410196Z",
     "start_time": "2021-11-15T09:08:50.405626Z"
    }
   },
   "outputs": [],
   "source": [
    "def is_zip_code(zipcode):\n",
    "    # your code goes here\n",
    "    pat = r'\\b[a-zA-Z]{3}\\d{3}\\b'\n",
    "    return re.search(pat, zipcode) is not None"
   ]
  },
  {
   "cell_type": "code",
   "execution_count": null,
   "metadata": {
    "ExecuteTime": {
     "end_time": "2021-11-15T08:59:03.413158Z",
     "start_time": "2021-11-15T08:59:03.402940Z"
    }
   },
   "outputs": [],
   "source": [
    "print(is_zip_code('ABC123'))\n",
    "print(is_zip_code('FYA598'))\n",
    "print(is_zip_code('wyz940'))\n",
    "print(is_zip_code('AB123'))\n",
    "print(is_zip_code('ABCD123'))\n",
    "print(is_zip_code('ABC12'))"
   ]
  },
  {
   "cell_type": "markdown",
   "metadata": {},
   "source": [
    "**Ex. 2.8** Write a function `is_timestamp(tstamp)` that uses a regex to test if a given string evaluates to a correct 24-hour timestamp that adopts the HH:MM:SS format.\n",
    "\n",
    "Examples:\n",
    "\n",
    "<pre>\n",
    "is_timestamp('00:00:00') -> True\n",
    "is_timestamp('01:59:47') -> True\n",
    "is_timestamp('23:59:01') -> True\n",
    "is_timestamp('11:32:05') -> True\n",
    "is_timestamp('24:00:00') -> False\n",
    "is_timestamp('09:62:01') -> False\n",
    "is_timestamp('9:05:01') -> False\n",
    "</pre>"
   ]
  },
  {
   "cell_type": "code",
   "execution_count": null,
   "metadata": {
    "ExecuteTime": {
     "end_time": "2021-11-15T09:08:40.644100Z",
     "start_time": "2021-11-15T09:08:40.640633Z"
    }
   },
   "outputs": [],
   "source": [
    "def is_timestamp(tstamp):\n",
    "    # your code goes here\n",
    "    pat = r'\\b([01][0-9]|2[0-3]):[0-5][0-9]:[0-5][0-9]\\b'\n",
    "    return re.search(pat, tstamp) is not None"
   ]
  },
  {
   "cell_type": "code",
   "execution_count": null,
   "metadata": {
    "ExecuteTime": {
     "end_time": "2021-11-15T09:05:39.752421Z",
     "start_time": "2021-11-15T09:05:39.742445Z"
    }
   },
   "outputs": [],
   "source": [
    "print(is_timestamp('00:00:00'))\n",
    "print(is_timestamp('01:59:47'))\n",
    "print(is_timestamp('23:59:01'))\n",
    "print(is_timestamp('11:32:05'))\n",
    "print(is_timestamp('24:00:00'))\n",
    "print(is_timestamp('09:62:01'))\n",
    "print(is_timestamp('9:05:01'))"
   ]
  }
 ],
 "metadata": {
  "kernelspec": {
   "display_name": "Python 3.9.7 ('base')",
   "language": "python",
   "name": "python3"
  },
  "language_info": {
   "codemirror_mode": {
    "name": "ipython",
    "version": 3
   },
   "file_extension": ".py",
   "mimetype": "text/x-python",
   "name": "python",
   "nbconvert_exporter": "python",
   "pygments_lexer": "ipython3",
   "version": "3.9.7 (default, Sep 16 2021, 16:59:28) [MSC v.1916 64 bit (AMD64)]"
  },
  "toc": {
   "base_numbering": 1,
   "nav_menu": {},
   "number_sections": true,
   "sideBar": true,
   "skip_h1_title": true,
   "title_cell": "Table of Contents",
   "title_sidebar": "Contents",
   "toc_cell": false,
   "toc_position": {},
   "toc_section_display": true,
   "toc_window_display": false
  },
  "varInspector": {
   "cols": {
    "lenName": 16,
    "lenType": 16,
    "lenVar": 40
   },
   "kernels_config": {
    "python": {
     "delete_cmd_postfix": "",
     "delete_cmd_prefix": "del ",
     "library": "var_list.py",
     "varRefreshCmd": "print(var_dic_list())"
    },
    "r": {
     "delete_cmd_postfix": ") ",
     "delete_cmd_prefix": "rm(",
     "library": "var_list.r",
     "varRefreshCmd": "cat(var_dic_list()) "
    }
   },
   "types_to_exclude": [
    "module",
    "function",
    "builtin_function_or_method",
    "instance",
    "_Feature"
   ],
   "window_display": false
  },
  "vscode": {
   "interpreter": {
    "hash": "ac673d3df47e66e7dd05b65e3bb29a1f7300abf45f44f7ec05eed198338d7ce0"
   }
  }
 },
 "nbformat": 4,
 "nbformat_minor": 2
}
