{
 "cells": [
  {
   "cell_type": "markdown",
   "metadata": {},
   "source": [
    "# Bonus Assignment - Data Wrangling in Action!"
   ]
  },
  {
   "cell_type": "markdown",
   "metadata": {},
   "source": [
    "This optional homework assignment will cover some of the data programming aspects that we have covered over the extent of our lecture series.\n",
    "\n",
    "The datasets that will be used are in `.csv` format and can be accessed through the following two urls:\n",
    "\n",
    "`https://storage.googleapis.com/comp240-stores/used_cars_small.csv`\n",
    "\n",
    "`https://storage.googleapis.com/comp240-stores/used_cars_small_prices.csv`\n",
    "\n",
    "The first dataset captures 25 attributes relevant to a large number of used cars that will be sold online, while the second data includes simply the car id and the suggested price for that car."
   ]
  },
  {
   "cell_type": "code",
   "execution_count": null,
   "metadata": {
    "ExecuteTime": {
     "end_time": "2021-12-01T11:10:30.163832Z",
     "start_time": "2021-12-01T11:10:28.264770Z"
    }
   },
   "outputs": [],
   "source": [
    "import pandas as pd\n",
    "import numpy as np"
   ]
  },
  {
   "cell_type": "markdown",
   "metadata": {},
   "source": [
    "**Ex.1**: Import the `used_cars_small.csv` dataset in your notebook, structure it as a Pandas DataFrame and show the first 20 rows."
   ]
  },
  {
   "cell_type": "code",
   "execution_count": null,
   "metadata": {
    "ExecuteTime": {
     "end_time": "2021-12-01T11:11:02.925527Z",
     "start_time": "2021-12-01T11:10:30.166842Z"
    }
   },
   "outputs": [],
   "source": [
    "#your code goes here\n",
    "df = pd.read_csv('https://storage.googleapis.com/comp240-stores/used_cars_small.csv')\n",
    "df.head(20)"
   ]
  },
  {
   "cell_type": "code",
   "execution_count": null,
   "metadata": {},
   "outputs": [],
   "source": [
    "# I saved it to the csv in the current folder so I do not have to download it again\n",
    "df.to_csv('cars_small.csv', index=False)"
   ]
  },
  {
   "cell_type": "code",
   "execution_count": null,
   "metadata": {},
   "outputs": [],
   "source": [
    "df = pd.read_csv('cars_small.csv')\n",
    "df.head(20)"
   ]
  },
  {
   "cell_type": "markdown",
   "metadata": {},
   "source": [
    "**Ex.2**: Now, print only the column names:"
   ]
  },
  {
   "cell_type": "code",
   "execution_count": null,
   "metadata": {
    "ExecuteTime": {
     "end_time": "2021-12-01T11:11:02.933550Z",
     "start_time": "2021-12-01T11:11:02.927532Z"
    }
   },
   "outputs": [],
   "source": [
    "#your code goes here\n",
    "df.columns.values\n",
    "# print(*df.columns.values, sep='\\n')"
   ]
  },
  {
   "cell_type": "markdown",
   "metadata": {},
   "source": [
    "**Ex.3**: There are 25 attributes and this is a lot! Perform dimensionality reduction by removing from the DataFrame the `url`, `region_url`, `VIN`, `title_status`, `image_url`, `county`, `lat` and `long` attributes:"
   ]
  },
  {
   "cell_type": "code",
   "execution_count": null,
   "metadata": {
    "ExecuteTime": {
     "end_time": "2021-12-01T11:11:02.991704Z",
     "start_time": "2021-12-01T11:11:02.938565Z"
    }
   },
   "outputs": [],
   "source": [
    "#your code goes here\n",
    "df = df.drop(columns=['url', 'region_url', 'VIN', 'title_status', 'image_url', 'county', 'lat', 'long'])"
   ]
  },
  {
   "cell_type": "markdown",
   "metadata": {},
   "source": [
    "**Ex.4**: There should be 6 distinct values (7 with `nan`) for the categorical attribute `condition`, show them:"
   ]
  },
  {
   "cell_type": "code",
   "execution_count": null,
   "metadata": {
    "ExecuteTime": {
     "end_time": "2021-12-01T11:11:03.020794Z",
     "start_time": "2021-12-01T11:11:02.993711Z"
    }
   },
   "outputs": [],
   "source": [
    "#your code goes here\n",
    "df['condition'].unique()"
   ]
  },
  {
   "cell_type": "markdown",
   "metadata": {},
   "source": [
    "**Ex.5**: Re-classify the `condition` column so that `fair` values are now `good` and `like new` values are now `excellent`:"
   ]
  },
  {
   "cell_type": "code",
   "execution_count": null,
   "metadata": {
    "ExecuteTime": {
     "end_time": "2021-12-01T11:11:03.054884Z",
     "start_time": "2021-12-01T11:11:03.022798Z"
    }
   },
   "outputs": [],
   "source": [
    "#your code goes here\n",
    "df_checkpoint = df.copy()\n",
    "df.loc[df['condition'] == 'fair', 'condition'] = 'good'\n",
    "df.loc[df['condition'] == 'like new', 'condition'] = 'excellent'\n",
    "df.head()"
   ]
  },
  {
   "cell_type": "markdown",
   "metadata": {},
   "source": [
    "**Ex.6** There should be 214 cars where theire `condition` is labeled as `salvage`, `new` or `nan`. Can you show them?"
   ]
  },
  {
   "cell_type": "code",
   "execution_count": null,
   "metadata": {
    "ExecuteTime": {
     "end_time": "2021-12-01T11:11:03.095496Z",
     "start_time": "2021-12-01T11:11:03.056889Z"
    }
   },
   "outputs": [],
   "source": [
    "#your code goes here\n",
    "df[(df['condition'] == 'salvage') | (df['condition'] == 'new') | (df['condition'] == 'nan')]"
   ]
  },
  {
   "cell_type": "markdown",
   "metadata": {},
   "source": [
    "**Ex.7**: Can you find the column with the most missing values? If yes, remove this column:"
   ]
  },
  {
   "cell_type": "code",
   "execution_count": null,
   "metadata": {
    "ExecuteTime": {
     "end_time": "2021-12-01T11:11:03.145745Z",
     "start_time": "2021-12-01T11:11:03.103517Z"
    }
   },
   "outputs": [],
   "source": [
    "#your code goes here\n",
    "column = df.count().idxmin()\n",
    "print(f'Column with the most NaN values: {column}')\n",
    "df = df.drop(columns=column)\n",
    "df.head()"
   ]
  },
  {
   "cell_type": "markdown",
   "metadata": {},
   "source": [
    "**Ex.8**: Are there any cars that have purchased prior to 1990? If yes, remove those cars:"
   ]
  },
  {
   "cell_type": "code",
   "execution_count": null,
   "metadata": {
    "ExecuteTime": {
     "end_time": "2021-12-01T11:11:03.260017Z",
     "start_time": "2021-12-01T11:11:03.210887Z"
    }
   },
   "outputs": [],
   "source": [
    "#your code goes here\n",
    "df = df.drop(df[df['year'] < 1990].index)"
   ]
  },
  {
   "cell_type": "markdown",
   "metadata": {},
   "source": [
    "**Ex.9**: The `year` attribute should feature integer values. Convert it to `int64`:"
   ]
  },
  {
   "cell_type": "code",
   "execution_count": null,
   "metadata": {
    "ExecuteTime": {
     "end_time": "2021-12-01T11:11:03.304138Z",
     "start_time": "2021-12-01T11:11:03.261020Z"
    }
   },
   "outputs": [],
   "source": [
    "#your code goes here\n",
    "df['year'] = df['year'].astype('Int64')\n",
    "df.head()"
   ]
  },
  {
   "cell_type": "markdown",
   "metadata": {},
   "source": [
    "**Ex.10**: Are there any cars that their `odometer` shows more than 2.5 million miles? Should these entries actually be in the dataset? if not, remove them."
   ]
  },
  {
   "cell_type": "code",
   "execution_count": null,
   "metadata": {
    "ExecuteTime": {
     "end_time": "2021-12-01T11:11:03.340238Z",
     "start_time": "2021-12-01T11:11:03.306644Z"
    }
   },
   "outputs": [],
   "source": [
    "#your code goes here\n",
    "df[df['odometer'] > 2_500_000][['id', 'year', 'manufacturer', 'odometer']]"
   ]
  },
  {
   "cell_type": "code",
   "execution_count": null,
   "metadata": {},
   "outputs": [],
   "source": [
    "df = df.drop(df[df['odometer'] > 2_500_000].index)"
   ]
  },
  {
   "cell_type": "markdown",
   "metadata": {},
   "source": [
    "**Ex.11**: How many toyota's are listed?"
   ]
  },
  {
   "cell_type": "code",
   "execution_count": null,
   "metadata": {
    "ExecuteTime": {
     "end_time": "2021-12-01T11:11:03.426386Z",
     "start_time": "2021-12-01T11:11:03.388365Z"
    }
   },
   "outputs": [],
   "source": [
    "#your code goes here\n",
    "# df_new['manufacturer'][df_new['manufacturer'] == 'toyota'].count()\n",
    "len(df[df['manufacturer'] == 'toyota'])"
   ]
  },
  {
   "cell_type": "markdown",
   "metadata": {},
   "source": [
    "**Ex.12**: Let's generalize the above by counting how many cars are listed for all manufacturers:"
   ]
  },
  {
   "cell_type": "code",
   "execution_count": null,
   "metadata": {
    "ExecuteTime": {
     "end_time": "2021-12-01T11:11:03.439421Z",
     "start_time": "2021-12-01T11:11:03.427389Z"
    }
   },
   "outputs": [],
   "source": [
    "#your code goes here\n",
    "df.groupby('manufacturer')['manufacturer'].count().sort_values(ascending=False)"
   ]
  },
  {
   "cell_type": "markdown",
   "metadata": {},
   "source": [
    "**Ex.13**: Now, show how many cars are there per vehicle `type`:"
   ]
  },
  {
   "cell_type": "code",
   "execution_count": null,
   "metadata": {
    "ExecuteTime": {
     "end_time": "2021-12-01T11:11:03.456467Z",
     "start_time": "2021-12-01T11:11:03.440425Z"
    }
   },
   "outputs": [],
   "source": [
    "#your code goes here\n",
    "df.groupby('type')['type'].count().sort_values(ascending=False)"
   ]
  },
  {
   "cell_type": "markdown",
   "metadata": {},
   "source": [
    "**Ex.14**: Extend the previous to group by `type` and then by `fuel`:"
   ]
  },
  {
   "cell_type": "code",
   "execution_count": null,
   "metadata": {
    "ExecuteTime": {
     "end_time": "2021-12-01T11:11:03.475517Z",
     "start_time": "2021-12-01T11:11:03.457469Z"
    }
   },
   "outputs": [],
   "source": [
    "#your code goes here\n",
    "result = df.groupby(['type', 'fuel'])['type'].count().to_frame()\n",
    "result.columns = ['Count']\n",
    "result.sort_values(by=['type', 'Count'], ascending=[True, False])"
   ]
  },
  {
   "cell_type": "markdown",
   "metadata": {},
   "source": [
    "**Ex.15**: Import the `used_cars_small_prices.csv` dataset in your notebook, structure it as a Pandas DataFrame and show the first 20 rows."
   ]
  },
  {
   "cell_type": "code",
   "execution_count": null,
   "metadata": {
    "ExecuteTime": {
     "end_time": "2021-12-01T11:11:03.896062Z",
     "start_time": "2021-12-01T11:11:03.478530Z"
    }
   },
   "outputs": [],
   "source": [
    "#your code goes here\n",
    "df_prices = pd.read_csv('https://storage.googleapis.com/comp240-stores/used_cars_small_prices.csv')\n",
    "df_prices.head(20)"
   ]
  },
  {
   "cell_type": "code",
   "execution_count": null,
   "metadata": {},
   "outputs": [],
   "source": [
    "# I saved it to the csv in the current folder so I do not have to download it again\n",
    "df_prices.to_csv('cars_small_prices.csv', index=False)"
   ]
  },
  {
   "cell_type": "code",
   "execution_count": null,
   "metadata": {},
   "outputs": [],
   "source": [
    "df_prices = pd.read_csv('cars_small_prices.csv')\n",
    "df_prices.head(20)"
   ]
  },
  {
   "cell_type": "code",
   "execution_count": null,
   "metadata": {},
   "outputs": [],
   "source": [
    "# Checkpoint before merging\n",
    "df_checkpoint2 = df.copy()"
   ]
  },
  {
   "cell_type": "markdown",
   "metadata": {},
   "source": [
    "**Ex.16**: Merge the two datasets together so that the cars DataFrame now also captures the price for each car:"
   ]
  },
  {
   "cell_type": "code",
   "execution_count": null,
   "metadata": {
    "ExecuteTime": {
     "end_time": "2021-12-01T11:11:03.985132Z",
     "start_time": "2021-12-01T11:11:03.900540Z"
    }
   },
   "outputs": [],
   "source": [
    "#your code goes here\n",
    "df_complete = pd.merge(df, df_prices, on='id')\n",
    "df_complete.head()"
   ]
  },
  {
   "cell_type": "markdown",
   "metadata": {},
   "source": [
    "**Ex.17**: Are there any cars with a price tag below 100 or above 300K? If yes, remove these values as the law does not permit used vehicles to be sold above 300K."
   ]
  },
  {
   "cell_type": "code",
   "execution_count": null,
   "metadata": {
    "ExecuteTime": {
     "end_time": "2021-12-01T11:11:04.038286Z",
     "start_time": "2021-12-01T11:11:03.987137Z"
    }
   },
   "outputs": [],
   "source": [
    "#your code goes here\n",
    "df_complete = df_complete.drop(df_complete[(df_complete['price'] < 100) | (df_complete['price'] > 300_000)].index)"
   ]
  },
  {
   "cell_type": "markdown",
   "metadata": {},
   "source": [
    "**Ex.18**: Group the cars by manufacturer and produce the mean, median, std, min and max as price as insights for each manufacturer:"
   ]
  },
  {
   "cell_type": "code",
   "execution_count": null,
   "metadata": {
    "ExecuteTime": {
     "end_time": "2021-12-01T11:11:04.092430Z",
     "start_time": "2021-12-01T11:11:04.039289Z"
    }
   },
   "outputs": [],
   "source": [
    "# your code goes here\n",
    "df_complete.groupby('manufacturer')['price'].agg(['min', 'max', 'mean', 'median', 'std'])"
   ]
  },
  {
   "cell_type": "markdown",
   "metadata": {},
   "source": [
    "**Ex.19**: Extend the previous to include in the analysis for each manufacturer the stats for also the different `fuel` types:"
   ]
  },
  {
   "cell_type": "code",
   "execution_count": null,
   "metadata": {
    "ExecuteTime": {
     "end_time": "2021-12-01T11:11:04.155609Z",
     "start_time": "2021-12-01T11:11:04.093433Z"
    }
   },
   "outputs": [],
   "source": [
    "#your code goes here\n",
    "df_complete.groupby(['manufacturer', 'fuel'])['price'].agg(['min', 'max', 'mean', 'median', 'std'])"
   ]
  },
  {
   "cell_type": "markdown",
   "metadata": {},
   "source": [
    "**Ex.20**: The above seems messy, can you improve visibility with a pivot table?"
   ]
  },
  {
   "cell_type": "code",
   "execution_count": null,
   "metadata": {
    "ExecuteTime": {
     "end_time": "2021-12-01T11:11:04.289974Z",
     "start_time": "2021-12-01T11:11:04.159630Z"
    }
   },
   "outputs": [],
   "source": [
    "#your code goes here\n",
    "pd.pivot_table(df_complete, values=['price'], index=['manufacturer', 'fuel'], aggfunc=['min', 'max', 'mean', 'median', 'std'], margins=True, margins_name='Total')"
   ]
  },
  {
   "cell_type": "markdown",
   "metadata": {},
   "source": [
    "# A bit of extra work for the curious"
   ]
  },
  {
   "cell_type": "markdown",
   "metadata": {},
   "source": [
    "The `prices` dataset is also available in the following url in `json` format.\n",
    "\n",
    "`https://storage.googleapis.com/comp240-stores/used_cars_small_pricesJSON.json`\n",
    "\n",
    "Use the `requests` library to download the dataset and then use the `pandas` method `read_json` to import the dataset to your notebook as a DataFrame. After that, you may opt to re-execute Ex.16-20 just to see if things still work.\n",
    "\n",
    "The goal of this small task is to show that we have achieved *programming portability*. The data ingestion is decoupled from the analysis, meaning that all code written for the analysis is not affected by the why the data is stored."
   ]
  },
  {
   "cell_type": "code",
   "execution_count": null,
   "metadata": {},
   "outputs": [],
   "source": [
    "#your code goes here\n",
    "import requests\n",
    "\n",
    "url = 'https://storage.googleapis.com/comp240-stores/used_cars_small_pricesJSON.json'\n",
    "\n",
    "r = requests.get(url)\n",
    "\n",
    "if r:\n",
    "    df_prices_json = pd.DataFrame(r.json())\n",
    "    print(df_prices_json.head(20))\n",
    "else:\n",
    "    print(r.text)"
   ]
  },
  {
   "cell_type": "code",
   "execution_count": null,
   "metadata": {},
   "outputs": [],
   "source": [
    "# I saved it to the json file in the current directory so I do not have to download it again\n",
    "df_prices_json.to_json('cars_small_prices.json')"
   ]
  },
  {
   "cell_type": "code",
   "execution_count": null,
   "metadata": {},
   "outputs": [],
   "source": [
    "# df_prices_json = pd.read_json('cars_small_prices.json')\n",
    "df_complete_json = pd.merge(df, df_prices_json, on='id')\n",
    "# df_complete_json = df_complete_json.drop(df_complete_json[(df_complete_json['price'] < 100) | (df_complete_json['price'] > 300_000)].index)"
   ]
  },
  {
   "cell_type": "code",
   "execution_count": null,
   "metadata": {},
   "outputs": [],
   "source": [
    "# Drop rows\n",
    "df_complete_json = df_complete_json.drop(df_complete_json[(df_complete_json['price'] < 100) | (df_complete_json['price'] > 300_000)].index)"
   ]
  },
  {
   "cell_type": "code",
   "execution_count": null,
   "metadata": {},
   "outputs": [],
   "source": [
    "df_complete_json.groupby('manufacturer')['price'].agg(['min', 'max', 'mean', 'median', 'std'])"
   ]
  },
  {
   "cell_type": "code",
   "execution_count": null,
   "metadata": {},
   "outputs": [],
   "source": [
    "#your code goes here\n",
    "df_complete_json.groupby(['manufacturer', 'fuel'])['price'].agg(['min', 'max', 'mean', 'median', 'std'])"
   ]
  },
  {
   "cell_type": "code",
   "execution_count": null,
   "metadata": {},
   "outputs": [],
   "source": [
    "#your code goes here\n",
    "pd.pivot_table(df_complete_json, values=['price'], index=['manufacturer', 'fuel'], aggfunc=['min', 'max', 'mean', 'median', 'std'], margins=True, margins_name='Total')"
   ]
  }
 ],
 "metadata": {
  "kernelspec": {
   "display_name": "Python 3.9.7 ('base')",
   "language": "python",
   "name": "python3"
  },
  "language_info": {
   "codemirror_mode": {
    "name": "ipython",
    "version": 3
   },
   "file_extension": ".py",
   "mimetype": "text/x-python",
   "name": "python",
   "nbconvert_exporter": "python",
   "pygments_lexer": "ipython3",
   "version": "3.9.7"
  },
  "toc": {
   "base_numbering": 1,
   "nav_menu": {},
   "number_sections": true,
   "sideBar": true,
   "skip_h1_title": true,
   "title_cell": "Table of Contents",
   "title_sidebar": "Contents",
   "toc_cell": false,
   "toc_position": {},
   "toc_section_display": true,
   "toc_window_display": false
  },
  "varInspector": {
   "cols": {
    "lenName": 16,
    "lenType": 16,
    "lenVar": 40
   },
   "kernels_config": {
    "python": {
     "delete_cmd_postfix": "",
     "delete_cmd_prefix": "del ",
     "library": "var_list.py",
     "varRefreshCmd": "print(var_dic_list())"
    },
    "r": {
     "delete_cmd_postfix": ") ",
     "delete_cmd_prefix": "rm(",
     "library": "var_list.r",
     "varRefreshCmd": "cat(var_dic_list()) "
    }
   },
   "types_to_exclude": [
    "module",
    "function",
    "builtin_function_or_method",
    "instance",
    "_Feature"
   ],
   "window_display": false
  },
  "vscode": {
   "interpreter": {
    "hash": "ac673d3df47e66e7dd05b65e3bb29a1f7300abf45f44f7ec05eed198338d7ce0"
   }
  }
 },
 "nbformat": 4,
 "nbformat_minor": 2
}
