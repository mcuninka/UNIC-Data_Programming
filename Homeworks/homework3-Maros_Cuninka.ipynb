{
 "cells": [
  {
   "cell_type": "markdown",
   "metadata": {},
   "source": [
    "# COMP-240 Homework 3"
   ]
  },
  {
   "cell_type": "markdown",
   "metadata": {},
   "source": [
    "This homework assignment includes a single exercise with simple coding tasks to help you familiarize with data manipulation for tabular data with the use of the popular python library, namely [Pandas](https://pandas.pydata.org/).\n",
    "\n",
    "Before we start you need to have installed in your python environment Pandas and of course jupyter notebooks. If you have downloaded and installed anaconda with all libraries pre-downloaded then you do not need to do anything else. To check just run the below cell and see if you get an error message. \n",
    "\n",
    "If you have downloaded anaconda but did not pre-download any libraries then open a terminal (e.g., for windows open command prompt) and download the libraries via the conda package manager:\n",
    "\n",
    "```python\n",
    "conda install pandas\n",
    "```\n",
    "\n",
    "First... let's import to the notebook Pandas by just running the below cell:"
   ]
  },
  {
   "cell_type": "code",
   "execution_count": null,
   "metadata": {
    "ExecuteTime": {
     "end_time": "2021-11-02T08:27:55.780677Z",
     "start_time": "2021-11-02T08:27:51.440006Z"
    }
   },
   "outputs": [],
   "source": [
    "import pandas as pd\n",
    "import numpy as np"
   ]
  },
  {
   "cell_type": "markdown",
   "metadata": {},
   "source": [
    "Create a DataFrame with 10 rows and 5 columns where the columns are named Game1, Game2, ..., Game5 and the rows are indexed as Player1, Player2, ..., Player10. Fill the DataFrame with random integer values from 0 up to 20."
   ]
  },
  {
   "cell_type": "code",
   "execution_count": null,
   "metadata": {
    "ExecuteTime": {
     "end_time": "2021-11-02T08:30:10.536807Z",
     "start_time": "2021-11-02T08:30:10.442027Z"
    }
   },
   "outputs": [],
   "source": [
    "#your code goes here\n",
    "\n",
    "no_rows = 10\n",
    "no_columns = 5\n",
    "index_names = []\n",
    "columns_names = []\n",
    "\n",
    "for i in range(no_rows):\n",
    "    index_names.append('Player' + str(i + 1))\n",
    "\n",
    "for i in range(no_columns):\n",
    "    columns_names.append('Game' + str(i + 1))\n",
    "\n",
    "df = pd.DataFrame(data=np.random.randint(0, 20, size=no_rows * no_columns).reshape((no_rows, no_columns)), columns=columns_names, index=index_names)\n",
    "df"
   ]
  },
  {
   "cell_type": "markdown",
   "metadata": {},
   "source": [
    "Which player had the best score in Game1?"
   ]
  },
  {
   "cell_type": "code",
   "execution_count": null,
   "metadata": {},
   "outputs": [],
   "source": [
    "#your code goes here\n",
    "print(f'{df[\"Game1\"].idxmax()} - {df[\"Game1\"].max()}')"
   ]
  },
  {
   "cell_type": "markdown",
   "metadata": {},
   "source": [
    "What was the best game played by Player 6?"
   ]
  },
  {
   "cell_type": "code",
   "execution_count": null,
   "metadata": {},
   "outputs": [],
   "source": [
    "#your code goes here\n",
    "print(f'{df.loc[\"Player6\"].idxmax()} - {df.loc[\"Player6\"].max()}')"
   ]
  },
  {
   "cell_type": "markdown",
   "metadata": {},
   "source": [
    "Return the players with a Game 3 score greater than 12:"
   ]
  },
  {
   "cell_type": "code",
   "execution_count": null,
   "metadata": {},
   "outputs": [],
   "source": [
    "#your code goes here\n",
    "df[df['Game3'] > 12]"
   ]
  },
  {
   "cell_type": "markdown",
   "metadata": {
    "ExecuteTime": {
     "end_time": "2020-02-22T10:05:41.604891Z",
     "start_time": "2020-02-22T10:05:41.590654Z"
    }
   },
   "source": [
    "Compute the total score of each player for all games:"
   ]
  },
  {
   "cell_type": "code",
   "execution_count": null,
   "metadata": {},
   "outputs": [],
   "source": [
    "#your code goes here\n",
    "total_sum = df.sum(axis=1)"
   ]
  },
  {
   "cell_type": "markdown",
   "metadata": {},
   "source": [
    "Convert the above to a Pandas Series and name it as 'Total':"
   ]
  },
  {
   "cell_type": "code",
   "execution_count": null,
   "metadata": {},
   "outputs": [],
   "source": [
    "#your code goes here\n",
    "series = pd.Series(data=total_sum, name='Total')\n",
    "series"
   ]
  },
  {
   "cell_type": "markdown",
   "metadata": {},
   "source": [
    "Add the 'Total' Series to the scoring DataFrame:"
   ]
  },
  {
   "cell_type": "code",
   "execution_count": null,
   "metadata": {},
   "outputs": [],
   "source": [
    "#your code goes here\n",
    "df[series.name] = series\n",
    "df"
   ]
  },
  {
   "cell_type": "markdown",
   "metadata": {},
   "source": [
    "Compute the average and standard deviation of each Game:"
   ]
  },
  {
   "cell_type": "code",
   "execution_count": null,
   "metadata": {},
   "outputs": [],
   "source": [
    "#your code goes here\n",
    "games_avg = pd.Series(df.loc[:, 'Game1':df.columns[-2]].mean(), name='Average')\n",
    "games_std = pd.Series(df.loc[:, 'Game1':df.columns[-2]].std(), name='Std')\n",
    "print(f'Average:\\n{games_avg}')\n",
    "print(f'\\nStandard deviation:\\n{games_std}')"
   ]
  },
  {
   "cell_type": "markdown",
   "metadata": {},
   "source": [
    "Add the Games mean and standard deviation as rows to the DataFrame:"
   ]
  },
  {
   "cell_type": "code",
   "execution_count": null,
   "metadata": {},
   "outputs": [],
   "source": [
    "#your code goes here\n",
    "df2 = pd.concat([df, games_avg.to_frame().T, games_std.to_frame().T])\n",
    "df2"
   ]
  },
  {
   "cell_type": "markdown",
   "metadata": {},
   "source": [
    "Your 'Total' column should have 2 NaN values for the mean and std. Fill them up accordingly."
   ]
  },
  {
   "cell_type": "code",
   "execution_count": null,
   "metadata": {},
   "outputs": [],
   "source": [
    "#your code goes here\n",
    "df2.loc['Average']['Total'] = df2.loc['Average', 'Game1':'Game5'].sum()\n",
    "df2.loc['Std']['Total'] = df2.loc['Std', 'Game1':'Game5'].sum()\n",
    "df2"
   ]
  }
 ],
 "metadata": {
  "kernelspec": {
   "display_name": "Python 3.9.7 ('base')",
   "language": "python",
   "name": "python3"
  },
  "language_info": {
   "codemirror_mode": {
    "name": "ipython",
    "version": 3
   },
   "file_extension": ".py",
   "mimetype": "text/x-python",
   "name": "python",
   "nbconvert_exporter": "python",
   "pygments_lexer": "ipython3",
   "version": "3.9.7"
  },
  "toc": {
   "base_numbering": 1,
   "nav_menu": {},
   "number_sections": true,
   "sideBar": true,
   "skip_h1_title": false,
   "title_cell": "Table of Contents",
   "title_sidebar": "Contents",
   "toc_cell": false,
   "toc_position": {},
   "toc_section_display": true,
   "toc_window_display": false
  },
  "varInspector": {
   "cols": {
    "lenName": 16,
    "lenType": 16,
    "lenVar": 40
   },
   "kernels_config": {
    "python": {
     "delete_cmd_postfix": "",
     "delete_cmd_prefix": "del ",
     "library": "var_list.py",
     "varRefreshCmd": "print(var_dic_list())"
    },
    "r": {
     "delete_cmd_postfix": ") ",
     "delete_cmd_prefix": "rm(",
     "library": "var_list.r",
     "varRefreshCmd": "cat(var_dic_list()) "
    }
   },
   "types_to_exclude": [
    "module",
    "function",
    "builtin_function_or_method",
    "instance",
    "_Feature"
   ],
   "window_display": false
  },
  "vscode": {
   "interpreter": {
    "hash": "ac673d3df47e66e7dd05b65e3bb29a1f7300abf45f44f7ec05eed198338d7ce0"
   }
  }
 },
 "nbformat": 4,
 "nbformat_minor": 2
}
