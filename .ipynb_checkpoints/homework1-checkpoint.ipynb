{
 "cells": [
  {
   "cell_type": "markdown",
   "metadata": {},
   "source": [
    "Exercise 1"
   ]
  },
  {
   "cell_type": "code",
   "execution_count": null,
   "metadata": {},
   "outputs": [],
   "source": [
    "# Count pupil name occurance in the given classroom\n",
    "\n",
    "def count(classroom, pupilName):\n",
    "    count = 0\n",
    "    \n",
    "    # For loop to iterate over the entire classroom and if \n",
    "    # the name of the element in the classroom equals to pupilName\n",
    "    # parameter increase the count by 1\n",
    "    for pupil in classroom:\n",
    "        if pupil == pupilName:\n",
    "            count += 1\n",
    "    \n",
    "    print(count)"
   ]
  },
  {
   "cell_type": "code",
   "execution_count": null,
   "metadata": {},
   "outputs": [],
   "source": [
    "classroom = ['john', 'maria', 'maria', 'ahmet', 'eleni', 'rho', 'john', 'maria', 'jules']\n",
    "\n",
    "count(classroom, 'maria') #prints 3\n",
    "count(classroom, 'john') #prints 2\n",
    "count(classroom, 'ahmet') #prints 1\n",
    "count(classroom, 'demetris') #prints 0"
   ]
  },
  {
   "cell_type": "markdown",
   "metadata": {},
   "source": [
    "Exercise 2"
   ]
  },
  {
   "cell_type": "code",
   "execution_count": null,
   "metadata": {},
   "outputs": [],
   "source": [
    "# Helper function to get factorial without importing math library\n",
    "\n",
    "def fac(num):\n",
    "    result = 0\n",
    "    if num == 0 or num == 1:\n",
    "        result = 1\n",
    "    else:\n",
    "        result = num * fac(num -1)\n",
    "        \n",
    "    return result\n",
    "\n",
    "def isStrong(num):\n",
    "    try:\n",
    "        # Check if the number is greater than 0, no reason\n",
    "        # to check factorial of negative number\n",
    "        if num < 0:\n",
    "            return 'Factorial for negative number!'\n",
    "        else:\n",
    "            # Converting number to string so I can iterate through single digits\n",
    "            string_number = str(num)\n",
    "            result = 0\n",
    "            for digit in string_number:\n",
    "                result += fac(int(digit))\n",
    "\n",
    "        return result == num\n",
    "    except (TypeError, ValueError):\n",
    "        return 'Please enter integer!'"
   ]
  },
  {
   "cell_type": "code",
   "execution_count": null,
   "metadata": {},
   "outputs": [],
   "source": [
    "print(isStrong(145)) #returns True\n",
    "print(isStrong(234)) #returns False\n",
    "print(isStrong(40585)) #returns True\n",
    "print(isStrong(-40585)) #returns Enter number greater than or equal to 0\n",
    "print(isStrong(12.2121)) #returns Please enter integer\n",
    "print(isStrong('string')) #returns Please enter integer"
   ]
  },
  {
   "cell_type": "code",
   "execution_count": null,
   "metadata": {},
   "outputs": [],
   "source": [
    "def findStrongNums(my_range):\n",
    "    result = []\n",
    "    \n",
    "    try:\n",
    "        # Check that the range has at least 1 and max 3 arguments\n",
    "        if (len(my_range)) >= 1 and len(my_range) <= 3:\n",
    "            for number in range(*my_range):\n",
    "                if isStrong(number):\n",
    "                    result.append(number)\n",
    "        else:\n",
    "            return 'Range must have min 1 and max 3 arguments!'\n",
    "\n",
    "        return result\n",
    "    except (TypeError, ValueError):\n",
    "        return 'Please enter integer as range!'"
   ]
  },
  {
   "cell_type": "code",
   "execution_count": null,
   "metadata": {},
   "outputs": [],
   "source": [
    "print(findStrongNums((10, 50000)))\n",
    "print(findStrongNums((10, 50000, 2)))\n",
    "print(findStrongNums((10, 50000, 2, 1)))\n",
    "print(findStrongNums(()))"
   ]
  },
  {
   "cell_type": "markdown",
   "metadata": {},
   "source": [
    "Exercise 3"
   ]
  },
  {
   "cell_type": "code",
   "execution_count": null,
   "metadata": {},
   "outputs": [],
   "source": [
    "# How many sites are there?\n",
    "\n",
    "def sites_count(data):\n",
    "    sites = []\n",
    "\n",
    "    for i in data:\n",
    "        if i[0] not in sites:\n",
    "            sites.append(i[0])\n",
    "\n",
    "    return len(sites)"
   ]
  },
  {
   "cell_type": "code",
   "execution_count": null,
   "metadata": {},
   "outputs": [],
   "source": [
    "# How many birds were counted at a given site (i.e., ‘D3’)?\n",
    "\n",
    "def count_birds_at_given_site(data, site):\n",
    "    result = 0\n",
    "\n",
    "    for i in data:\n",
    "        if i[0] == site:\n",
    "            result += i[1]\n",
    "\n",
    "    return result"
   ]
  },
  {
   "cell_type": "code",
   "execution_count": null,
   "metadata": {},
   "outputs": [],
   "source": [
    "# What is the total number of birds counted across all sites?\n",
    "\n",
    "def total_number_of_birds(data):\n",
    "    total = 0\n",
    "\n",
    "    for i in data:\n",
    "        total += i[1]\n",
    "    \n",
    "    return total"
   ]
  },
  {
   "cell_type": "code",
   "execution_count": null,
   "metadata": {},
   "outputs": [],
   "source": [
    "# What is the average number of birds seen on a site?\n",
    "\n",
    "def average_number_of_birds_on_site(data, site):\n",
    "    total = 0\n",
    "    count = 0\n",
    "\n",
    "    for i in data:\n",
    "        if i[0] == site:\n",
    "            total += i[1]\n",
    "            count += 1\n",
    "    \n",
    "    try:\n",
    "        return total / count\n",
    "    except ZeroDivisionError:\n",
    "        return 'Provided site is not in the dataset.'"
   ]
  },
  {
   "cell_type": "code",
   "execution_count": null,
   "metadata": {},
   "outputs": [],
   "source": [
    "# What is the total number of birds counted on sites with codes beginning with C?\n",
    "\n",
    "def total_number_of_birds_on_site_starting_with(data, code):\n",
    "    total = 0\n",
    "\n",
    "    for i in data:\n",
    "        if i[0].startswith(str(code).upper()):\n",
    "            total += i[1]\n",
    "    \n",
    "    return total"
   ]
  },
  {
   "cell_type": "code",
   "execution_count": null,
   "metadata": {},
   "outputs": [],
   "source": [
    "data = [('A1', 28), ('D3', 5), ('A2', 32), ('A3', 1), ('A4', 0), \n",
    " ('A5', 10), ('A6', 22), ('A7', 30), ('A3', 5), ('A8', 19), \n",
    " ('B1', 145), ('B2', 27), ('B3', 36), ('B4', 25), ('B5', 9), \n",
    " ('B6', 38), ('B7', 21), ('B8', 12), ('C1', 122), ('C2', 87), \n",
    " ('C3', 36), ('C4', 3), ('D1', 0), ('D2', 5), ('D3', 55), \n",
    " ('D4', 62), ('D5', 98), ('D6', 32), ('B5', 4)]\n",
    "\n",
    "given_site = 'D6'\n",
    "sites_starting_with = 'C'\n",
    "\n",
    "print(f'Number of sites: {sites_count(data)}')\n",
    "print(f'Number of birds at {given_site} site: {count_birds_at_given_site(data, given_site)}')\n",
    "print(f'Total number of birds: {total_number_of_birds(data)}')\n",
    "print(f'Average number of birds at {given_site} site: {average_number_of_birds_on_site(data, given_site)}')\n",
    "print(f'Total number of birds on sites starting with {sites_starting_with.upper()}: {total_number_of_birds_on_site_starting_with(data, sites_starting_with)}')"
   ]
  },
  {
   "cell_type": "code",
   "execution_count": null,
   "metadata": {},
   "outputs": [],
   "source": []
  },
  {
   "cell_type": "markdown",
   "metadata": {},
   "source": [
    "Exercise 4"
   ]
  },
  {
   "cell_type": "code",
   "execution_count": null,
   "metadata": {},
   "outputs": [],
   "source": [
    "def list_to_dict(lst):\n",
    "    result = {}\n",
    "    \n",
    "    # If the list has odd elements, add None as last element\n",
    "    if len(lst) % 2 != 0:\n",
    "        lst.append(None)\n",
    "    \n",
    "    # Loop through the list and if 'i' is odd element use it as key\n",
    "    # and the next element as value. No need to check for out of range\n",
    "    # index, because the list has always odd number of elements\n",
    "    for i in range(len(lst)):\n",
    "        if i % 2 == 0:\n",
    "            result[lst[i]] = lst[i+1]\n",
    "\n",
    "    return result"
   ]
  },
  {
   "cell_type": "code",
   "execution_count": null,
   "metadata": {},
   "outputs": [],
   "source": [
    "a = ['hello', 5, 'hi', 2, 'bye', 3, 'four', 4]\n",
    "print(list_to_dict(a))\n",
    "\n",
    "b = [1, 2, 3, 4, 5, 6, 7]\n",
    "print(list_to_dict(b))"
   ]
  },
  {
   "cell_type": "markdown",
   "metadata": {},
   "source": [
    "Exercise 5"
   ]
  },
  {
   "cell_type": "code",
   "execution_count": null,
   "metadata": {},
   "outputs": [],
   "source": [
    "def countCharacters(word):\n",
    "    result = {}\n",
    "\n",
    "    for char in str(word):\n",
    "        # skip space character\n",
    "        if char != ' ':\n",
    "            if char in result:\n",
    "                result[char] += 1\n",
    "            else:\n",
    "                result[char] = 1           \n",
    "\n",
    "    return result"
   ]
  },
  {
   "cell_type": "code",
   "execution_count": null,
   "metadata": {},
   "outputs": [],
   "source": [
    "def contents_of_index(sequence, index):\n",
    "    # Catching IndexError in case that the sequence has less elements\n",
    "    # as is the index parameter\n",
    "    try:\n",
    "        # Converting dict to list so I can access it by index (number)\n",
    "        # but afterwards I return it again as dict, so you get key and\n",
    "        # value for the specific index\n",
    "        dict_to_list = list(sequence)\n",
    "        return {dict_to_list[index]: sequence[dict_to_list[index]]}\n",
    "    except TypeError:\n",
    "        return 'Index must be an integer!'\n",
    "    except IndexError:\n",
    "        return 'Index is out of range!'"
   ]
  },
  {
   "cell_type": "code",
   "execution_count": null,
   "metadata": {},
   "outputs": [],
   "source": [
    "def reverse_lookup(sequence, value):\n",
    "    result = []\n",
    "    \n",
    "    if isinstance(value, int):\n",
    "        # Iterating through the entire sequence and checking each value,\n",
    "        # if the value is the same as value parameter, append the result list\n",
    "        for key in sequence:\n",
    "            if sequence[key] == value:\n",
    "                result.append(key)\n",
    "\n",
    "        if len(result) == 0:\n",
    "            result = f'None of the characters appear in the string {value} time(s).'\n",
    "\n",
    "        return result\n",
    "    else:\n",
    "        return 'Value must be an integer!'"
   ]
  },
  {
   "cell_type": "code",
   "execution_count": null,
   "metadata": {},
   "outputs": [],
   "source": [
    "test_string = countCharacters('This is my test string!')\n",
    "\n",
    "print(test_string)\n",
    "print(contents_of_index(test_string, 3))\n",
    "print(reverse_lookup(test_string, 3))"
   ]
  },
  {
   "cell_type": "markdown",
   "metadata": {},
   "source": [
    "Exercise 6"
   ]
  },
  {
   "cell_type": "code",
   "execution_count": null,
   "metadata": {},
   "outputs": [],
   "source": [
    "def flatList(iterable):\n",
    "    array = []\n",
    "    result = []\n",
    "    \n",
    "    # Firstly I check if the iterable parameter is dict, if yes convert it\n",
    "    # to the list, but only its values\n",
    "    if isinstance(iterable, dict):\n",
    "        array = list(iterable.values())\n",
    "    else:\n",
    "        array = iterable\n",
    "\n",
    "    for element in array:\n",
    "        # If the element is already integer add it to the result\n",
    "        # if it is dict/list/tupple do recursion\n",
    "        if isinstance(element, int):\n",
    "            result.append(element)\n",
    "        else:  \n",
    "            result += flatList(element)\n",
    "    return result"
   ]
  },
  {
   "cell_type": "code",
   "execution_count": null,
   "metadata": {},
   "outputs": [],
   "source": [
    "input = [1, [2, 3, 4, 5, 6, 7], 8,[]]\n",
    "print(flatList(input))\n",
    "\n",
    "input2 = [0, 2, [[2, 3], 8, 100, 4, [[[[50]]]]], -2]\n",
    "print(flatList(input2))\n",
    "\n",
    "input3 =  (1, 34, (2, 1),((3, 6), (5, 4)))\n",
    "print(flatList(input3))\n",
    "\n",
    "input4 =  {'a' : 1, 'b': {'x': 3, 'y': 5, 'z': 8}, 'c': 4}\n",
    "print(flatList(input4))\n",
    "\n",
    "input5 =  {'a' : 1, 'b': {'x': 3, 'y': 5}, 'c': {'n': {'m':9}}}\n",
    "print(flatList(input5))"
   ]
  }
 ],
 "metadata": {
  "kernelspec": {
   "display_name": "Python 3 (ipykernel)",
   "language": "python",
   "name": "python3"
  },
  "language_info": {
   "codemirror_mode": {
    "name": "ipython",
    "version": 3
   },
   "file_extension": ".py",
   "mimetype": "text/x-python",
   "name": "python",
   "nbconvert_exporter": "python",
   "pygments_lexer": "ipython3",
   "version": "3.9.7"
  },
  "vscode": {
   "interpreter": {
    "hash": "ac673d3df47e66e7dd05b65e3bb29a1f7300abf45f44f7ec05eed198338d7ce0"
   }
  }
 },
 "nbformat": 4,
 "nbformat_minor": 2
}
